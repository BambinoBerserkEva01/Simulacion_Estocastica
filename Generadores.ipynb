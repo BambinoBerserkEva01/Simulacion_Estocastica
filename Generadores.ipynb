{
  "nbformat": 4,
  "nbformat_minor": 0,
  "metadata": {
    "colab": {
      "provenance": [],
      "authorship_tag": "ABX9TyOD85wmS9to/TybyAbLROL1",
      "include_colab_link": true
    },
    "kernelspec": {
      "name": "python3",
      "display_name": "Python 3"
    },
    "language_info": {
      "name": "python"
    }
  },
  "cells": [
    {
      "cell_type": "markdown",
      "metadata": {
        "id": "view-in-github",
        "colab_type": "text"
      },
      "source": [
        "<a href=\"https://colab.research.google.com/github/BambinoBerserkEva01/Simulacion_Estocastica/blob/main/Generadores.ipynb\" target=\"_parent\"><img src=\"https://colab.research.google.com/assets/colab-badge.svg\" alt=\"Open In Colab\"/></a>"
      ]
    },
    {
      "cell_type": "markdown",
      "source": [
        "### **Generadores Congruenciales para Simulación**\n",
        "\n",
        "En simulación estocástica, los **generadores congruenciales** se utilizan para generar números pseudoaleatorios. A continuación, se presentan tres tipos de generadores congruenciales: **lineal, polinomial y multiplicativo**.\n",
        "\n",
        "---\n",
        "\n",
        "## **1. Generador Congruencial Lineal (GCL)**\n",
        "\n",
        "El generador congruencial lineal sigue la ecuación:\n",
        "\n",
        "\\[\n",
        "X_i = (b X_{i-1} + a) \\mod m\n",
        "\\]\n",
        "\n",
        "donde:\n",
        "- \\( m \\) es el módulo.\n",
        "- \\( b \\) es el multiplicador.\n",
        "- \\( a \\) es la constante aditiva.\n",
        "- \\( X_0 \\) es la semilla.\n",
        "\n",
        "---\n",
        "\n",
        "## **2. Generador Congruencial Polinomial (GCP)**\n",
        "\n",
        "Este generador sigue la ecuación:\n",
        "\n",
        "\\[\n",
        "X_i = (b_k X_{i-k}^k + b_{k-1} X_{i-(k-1)}^{k-1} + ... + b_1 X_{i-1} + b_0) \\mod m\n",
        "\\]\n",
        "\n",
        "donde:\n",
        "- \\( m \\) es el módulo.\n",
        "- \\( b_0, b_1, ..., b_k \\) son los coeficientes del polinomio.\n",
        "- \\( X_0, X_1, ..., X_{k-1} \\) son los valores iniciales (semillas).\n",
        "\n",
        "---\n",
        "\n",
        "## **3. Generador Congruencial Multiplicativo (GCM)**\n",
        "\n",
        "El generador congruencial multiplicativo sigue la ecuación:\n",
        "\n",
        "\\[\n",
        "X_i = (b X_{i-1}) \\mod m\n",
        "\\]\n",
        "\n",
        "donde:\n",
        "- \\( m \\) es el módulo.\n",
        "- \\( b \\) es el multiplicador.\n",
        "- \\( X_0 \\) es la semilla.\n",
        "\n",
        "---\n",
        "\n",
        "\n"
      ],
      "metadata": {
        "id": "n-R9UNlKWkSm"
      }
    },
    {
      "cell_type": "code",
      "source": [
        "# **Generador Congruencial Lineal (GCL)**\n",
        "def generador_congruencial_lineal(m, b, a, semilla, n):\n",
        "    \"\"\"Genera n números pseudoaleatorios usando un generador congruencial lineal.\"\"\"\n",
        "    numeros = []\n",
        "    x = semilla\n",
        "    for _ in range(n):\n",
        "        x = (b * x + a) % m\n",
        "        numeros.append(x)\n",
        "    return numeros\n",
        "\n",
        "# Ejemplo de uso\n",
        "m = 100\n",
        "b = 13\n",
        "a = 7\n",
        "semilla = 16\n",
        "n = 10\n",
        "\n",
        "print(generador_congruencial_lineal(m, b, a, semilla, n))\n"
      ],
      "metadata": {
        "colab": {
          "base_uri": "https://localhost:8080/"
        },
        "id": "7Punr5n8WnuU",
        "outputId": "1b440fa1-9fde-4b3e-ae4a-4e6798798437"
      },
      "execution_count": 7,
      "outputs": [
        {
          "output_type": "stream",
          "name": "stdout",
          "text": [
            "[15, 2, 33, 36, 75, 82, 73, 56, 35, 62]\n"
          ]
        }
      ]
    },
    {
      "cell_type": "code",
      "source": [
        "# **Generador Congruencial Multiplicativo (GCM)**\n",
        "def generador_congruencial_multiplicativo(m, b, semilla, n):\n",
        "    \"\"\"\n",
        "    Genera n números pseudoaleatorios usando un generador congruencial multiplicativo.\n",
        "    \"\"\"\n",
        "    numeros = []\n",
        "    x = semilla\n",
        "    for _ in range(n):\n",
        "        x = (b * x) % m\n",
        "        numeros.append(x)\n",
        "    return numeros\n",
        "\n",
        "# Ejemplo de uso\n",
        "m = 100\n",
        "b = 37  # El multiplicador debe ser elegido con cuidado para garantizar un buen periodo\n",
        "semilla = 16\n",
        "n = 10\n",
        "\n",
        "print(generador_congruencial_multiplicativo(m, b, semilla, n))\n"
      ],
      "metadata": {
        "colab": {
          "base_uri": "https://localhost:8080/"
        },
        "id": "rfYEDUOWWvKa",
        "outputId": "949bc7f9-533d-49c5-c37b-09dfcf0abe72"
      },
      "execution_count": 8,
      "outputs": [
        {
          "output_type": "stream",
          "name": "stdout",
          "text": [
            "[92, 4, 48, 76, 12, 44, 28, 36, 32, 84]\n"
          ]
        }
      ]
    },
    {
      "cell_type": "code",
      "source": [
        "# **Generador Congruencial Polinomial (GCP)**\n",
        "def generador_congruencial_polinomial(m, coeficientes, semillas, n):\n",
        "    \"\"\"\n",
        "    Genera n números pseudoaleatorios usando un generador congruencial polinomial.\n",
        "    coeficientes: Lista de coeficientes [b_k, b_{k-1}, ..., b_0].\n",
        "    semillas: Lista de valores iniciales X_0, X_1, ..., X_{k-1}.\n",
        "    \"\"\"\n",
        "    k = len(coeficientes) - 1  # Grado del polinomio\n",
        "    numeros = semillas[:]\n",
        "\n",
        "    for i in range(k, n):\n",
        "        nuevo_x = sum(coeficientes[j] * (numeros[i-j-1] ** (k-j)) for j in range(k)) + coeficientes[-1]\n",
        "        nuevo_x = nuevo_x % m\n",
        "        numeros.append(nuevo_x)\n",
        "\n",
        "    return numeros\n",
        "\n",
        "# Ejemplo de uso\n",
        "m = 100\n",
        "coeficientes = [1, -1, 0, 5]  # b3 = 1, b2 = -1, b1 = 0, b0 = 5\n",
        "semillas = [16, 23, 42]  # Deben ser al menos del tamaño del grado del polinomio\n",
        "n = 10\n",
        "\n",
        "print(generador_congruencial_polinomial(m, coeficientes, semillas, n))\n"
      ],
      "metadata": {
        "colab": {
          "base_uri": "https://localhost:8080/"
        },
        "id": "eGetibsTW8Il",
        "outputId": "e95f51d6-45db-4048-e2d5-e02670c1924c"
      },
      "execution_count": 9,
      "outputs": [
        {
          "output_type": "stream",
          "name": "stdout",
          "text": [
            "[16, 23, 42, 64, 85, 34, 84, 53, 26, 72]\n"
          ]
        }
      ]
    }
  ]
}