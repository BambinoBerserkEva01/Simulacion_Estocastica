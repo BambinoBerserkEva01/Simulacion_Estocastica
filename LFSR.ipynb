{
  "nbformat": 4,
  "nbformat_minor": 0,
  "metadata": {
    "colab": {
      "provenance": [],
      "authorship_tag": "ABX9TyOZ42u85O4GXZT4EcMQFemp",
      "include_colab_link": true
    },
    "kernelspec": {
      "name": "python3",
      "display_name": "Python 3"
    },
    "language_info": {
      "name": "python"
    }
  },
  "cells": [
    {
      "cell_type": "markdown",
      "metadata": {
        "id": "view-in-github",
        "colab_type": "text"
      },
      "source": [
        "<a href=\"https://colab.research.google.com/github/BambinoBerserkEva01/Simulacion_Estocastica/blob/main/LFSR.ipynb\" target=\"_parent\"><img src=\"https://colab.research.google.com/assets/colab-badge.svg\" alt=\"Open In Colab\"/></a>"
      ]
    },
    {
      "cell_type": "code",
      "source": [
        "import numpy as np\n",
        "\n",
        "class LFSR:\n",
        "    \"\"\"\n",
        "    Implementación genérica de un Registro de Desplazamiento de Retroalimentación Lineal (LFSR) en F_2.\n",
        "    \"\"\"\n",
        "    def __init__(self, degree: int, seed: int = 1, taps: list = None):\n",
        "        \"\"\"\n",
        "        Inicializa el LFSR con los parámetros dados.\n",
        "\n",
        "        Parámetros:\n",
        "        - degree (int): Grado del LFSR (número de bits en el estado).\n",
        "        - seed (int): Valor inicial del registro.\n",
        "        - taps (list): Posiciones de los coeficientes del polinomio de realimentación.\n",
        "        \"\"\"\n",
        "        self.degree = degree\n",
        "        self.max_value = (2 ** self.degree) - 1  # Valor máximo posible\n",
        "        self.state = self.int_to_bools(seed, self.degree)\n",
        "        self.feedback_matrix = self.get_feedback_matrix(taps)\n",
        "        self.history = []\n",
        "\n",
        "    def int_to_bools(self, num: int, size: int) -> list:\n",
        "        \"\"\"Convierte un entero a una lista de bits de tamaño `size`.\"\"\"\n",
        "        return [int(b) for b in f\"{num:0{size}b}\"]\n",
        "\n",
        "    def bools_to_int(self, bools: list) -> int:\n",
        "        \"\"\"Convierte una lista de bits a un entero.\"\"\"\n",
        "        return int(\"\".join(map(str, bools)), 2)\n",
        "\n",
        "    def get_feedback_matrix(self, taps: list) -> np.ndarray:\n",
        "        \"\"\"\n",
        "        Genera la matriz de realimentación del LFSR.\n",
        "\n",
        "        Parámetros:\n",
        "        - taps (list): Posiciones de los coeficientes del polinomio de realimentación.\n",
        "\n",
        "        Retorna:\n",
        "        - np.ndarray: Matriz de realimentación en F_2.\n",
        "        \"\"\"\n",
        "        matrix = np.zeros((self.degree, self.degree), dtype=int)\n",
        "        matrix[:-1, 1:] = np.eye(self.degree - 1, dtype=int)\n",
        "        for tap in taps:\n",
        "            matrix[-1, tap] = 1\n",
        "        return matrix\n",
        "\n",
        "    def step(self):\n",
        "        \"\"\"Realiza un paso del LFSR y almacena el número generado.\"\"\"\n",
        "        new_state = np.dot(self.feedback_matrix, self.state) % 2\n",
        "        num = self.bools_to_int(self.state)\n",
        "        normalized_value = num / self.max_value  # Normalización entre 0 y 1\n",
        "        self.history.append(normalized_value)\n",
        "        self.state = new_state.tolist()\n",
        "\n",
        "    def generate_numbers(self, count: int) -> list:\n",
        "        \"\"\"Genera `count` números pseudoaleatorios normalizados entre 0 y 1.\"\"\"\n",
        "        for _ in range(count):\n",
        "            self.step()\n",
        "        return self.history\n",
        "\n",
        "# Configuración de polinomios de realimentación para cada LFSR\n",
        "LFSR_CONFIGS = {\n",
        "    4: [0, 3],         # x⁴ + x³ + 1\n",
        "    8: [0, 2, 3, 4, 7], # x⁸ + x⁶ + x⁵ + x⁴ + 1\n",
        "    12: [0, 1, 4, 6, 11], # x¹² + x¹¹ + x⁸ + x⁶ + 1\n",
        "    16: [0, 2, 3, 5, 15], # x¹⁶ + x¹⁴ + x¹³ + x¹¹ + 1\n",
        "    20: [0, 3, 19]      # x²⁰ + x¹⁷ + 1\n",
        "}\n",
        "\n",
        "# Generación de números con distintos LFSR\n",
        "for degree, taps in LFSR_CONFIGS.items():\n",
        "    lfsr = LFSR(degree=degree, seed=1, taps=taps)\n",
        "    numbers = lfsr.generate_numbers(degree)\n",
        "    print(f\"LFSR{degree}: {numbers}\")\n"
      ],
      "metadata": {
        "colab": {
          "base_uri": "https://localhost:8080/"
        },
        "id": "9NAqYRDZfjRv",
        "outputId": "0f572b5e-d724-4fdb-9e8e-69a4bb2a5110"
      },
      "execution_count": 1,
      "outputs": [
        {
          "output_type": "stream",
          "name": "stdout",
          "text": [
            "LFSR4: [0.06666666666666667, 0.2, 0.4666666666666667, 1.0]\n",
            "LFSR8: [0.00392156862745098, 0.011764705882352941, 0.027450980392156862, 0.058823529411764705, 0.11764705882352941, 0.23529411764705882, 0.4745098039215686, 0.9490196078431372]\n",
            "LFSR12: [0.0002442002442002442, 0.0007326007326007326, 0.0017094017094017094, 0.003663003663003663, 0.00757020757020757, 0.015384615384615385, 0.03076923076923077, 0.061782661782661785, 0.12380952380952381, 0.24786324786324787, 0.495970695970696, 0.991941391941392]\n",
            "LFSR16: [1.5259021896696422e-05, 4.5777065690089265e-05, 0.00010681315327687495, 0.00022888532845044633, 0.0004730296787975891, 0.0009613183794918746, 0.0019378957808804456, 0.0038910505836575876, 0.007797360189211872, 0.01560997940032044, 0.031235217822537575, 0.06247043564507515, 0.124956130312047, 0.2499275196459907, 0.4998550392919814, 0.9997253376058595]\n",
            "LFSR20: [9.536752259018191e-07, 2.8610256777054574e-06, 6.675726581312734e-06, 1.4305128388527287e-05, 2.9563932002956393e-05, 6.0081539231814605e-05, 0.00012111675368953103, 0.00024318718260496388, 0.0004873280404358296, 0.000975609756097561, 0.0019521731874210238, 0.0039053000500679494, 0.0078115537753618005, 0.015624061225949504, 0.03124907612712491, 0.06249910592947572, 0.12499916553417734, 0.24999833106835467, 0.49999761581193525, 0.9999952316238705]\n"
          ]
        }
      ]
    }
  ]
}