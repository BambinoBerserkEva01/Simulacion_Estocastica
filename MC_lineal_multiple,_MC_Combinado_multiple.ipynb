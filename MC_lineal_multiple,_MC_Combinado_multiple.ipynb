{
  "nbformat": 4,
  "nbformat_minor": 0,
  "metadata": {
    "colab": {
      "provenance": [],
      "authorship_tag": "ABX9TyMVWCgQS2tqFP/VPSs4AVI5",
      "include_colab_link": true
    },
    "kernelspec": {
      "name": "python3",
      "display_name": "Python 3"
    },
    "language_info": {
      "name": "python"
    }
  },
  "cells": [
    {
      "cell_type": "markdown",
      "metadata": {
        "id": "view-in-github",
        "colab_type": "text"
      },
      "source": [
        "<a href=\"https://colab.research.google.com/github/BambinoBerserkEva01/Simulacion_Estocastica/blob/main/MC_lineal_multiple%2C_MC_Combinado_multiple.ipynb\" target=\"_parent\"><img src=\"https://colab.research.google.com/assets/colab-badge.svg\" alt=\"Open In Colab\"/></a>"
      ]
    },
    {
      "cell_type": "code",
      "execution_count": 1,
      "metadata": {
        "colab": {
          "base_uri": "https://localhost:8080/"
        },
        "id": "_HtFYW8RTMuk",
        "outputId": "7dcb700d-f224-44d0-e16e-204702efb357"
      },
      "outputs": [
        {
          "output_type": "stream",
          "name": "stdout",
          "text": [
            "Generador Congruencial Múltiple: [0.44285714285714284, 0.37142857142857144, 0.18571428571428572, 0.04285714285714286, 0.7714285714285715, 0.9857142857142858, 0.24285714285714285, 0.17142857142857143, 0.5857142857142857, 0.44285714285714284]\n",
            "Generador Congruencial Combinado Múltiple: [0.8428571428571429, 0.2857142857142857, 0.07142857142857142, 0.4142857142857143, 0.17142857142857143, 0.9, 0.12857142857142856, 0.5428571428571428, 0.9857142857142858, 0.35714285714285715]\n"
          ]
        }
      ],
      "source": [
        "import numpy as np\n",
        "\n",
        "class MultipleCongruentialGenerator:\n",
        "    def __init__(self, m, b, x0, k):\n",
        "        \"\"\"\n",
        "        Inicializa el generador congruencial múltiple.\n",
        "        :param m: Módulo del generador.\n",
        "        :param b: Lista de coeficientes multiplicadores.\n",
        "        :param x0: Semillas iniciales (lista con al menos k elementos).\n",
        "        :param k: Orden del generador.\n",
        "        \"\"\"\n",
        "        self.m = m\n",
        "        self.b = b\n",
        "        self.x = x0\n",
        "        self.k = k\n",
        "\n",
        "    def generate(self, n):\n",
        "        \"\"\"\n",
        "        Genera una secuencia de n números pseudoaleatorios en (0,1).\n",
        "        :param n: Número de valores a generar.\n",
        "        :return: Lista de números aleatorios.\n",
        "        \"\"\"\n",
        "        numbers = []\n",
        "        for i in range(n):\n",
        "            next_x = sum(self.b[j] * self.x[-(j+1)] for j in range(self.k)) % self.m\n",
        "            self.x.append(next_x)\n",
        "            numbers.append(next_x / self.m)  # Normalización en (0,1)\n",
        "        return numbers\n",
        "\n",
        "\n",
        "class CombinedMultipleCongruentialGenerator:\n",
        "    def __init__(self, m1, m2, b1, b2, x0, y0, k):\n",
        "        \"\"\"\n",
        "        Inicializa el generador combinado de congruencias múltiples.\n",
        "        :param m1: Primer módulo.\n",
        "        :param m2: Segundo módulo.\n",
        "        :param b1: Lista de coeficientes multiplicadores del primer generador.\n",
        "        :param b2: Lista de coeficientes multiplicadores del segundo generador.\n",
        "        :param x0: Semillas iniciales del primer generador.\n",
        "        :param y0: Semillas iniciales del segundo generador.\n",
        "        :param k: Orden del generador.\n",
        "        \"\"\"\n",
        "        self.m1 = m1\n",
        "        self.m2 = m2\n",
        "        self.b1 = b1\n",
        "        self.b2 = b2\n",
        "        self.x = x0\n",
        "        self.y = y0\n",
        "        self.k = k\n",
        "\n",
        "    def generate(self, n):\n",
        "        \"\"\"\n",
        "        Genera una secuencia de n números pseudoaleatorios en (0,1).\n",
        "        :param n: Número de valores a generar.\n",
        "        :return: Lista de números aleatorios.\n",
        "        \"\"\"\n",
        "        numbers = []\n",
        "        for i in range(n):\n",
        "            next_x = sum(self.b1[j] * self.x[-(j+1)] for j in range(self.k)) % self.m1\n",
        "            next_y = sum(self.b2[j] * self.y[-(j+1)] for j in range(self.k)) % self.m2\n",
        "            next_z = (next_x - next_y) % self.m1  # Combinación\n",
        "            self.x.append(next_x)\n",
        "            self.y.append(next_y)\n",
        "            numbers.append(next_z / self.m1)  # Normalización en (0,1)\n",
        "        return numbers\n",
        "\n",
        "\n",
        "# Prueba del código\n",
        "if __name__ == \"__main__\":\n",
        "    # Parámetros para el generador múltiple\n",
        "    m = 70\n",
        "    b = [5, 3]  # Coeficientes arbitrarios\n",
        "    x0 = [12, 27]  # Semillas arbitrarias\n",
        "    k = 2\n",
        "\n",
        "    mcg = MultipleCongruentialGenerator(m, b, x0, k)\n",
        "    random_numbers_mcg = mcg.generate(10)\n",
        "    print(\"Generador Congruencial Múltiple:\", random_numbers_mcg)\n",
        "\n",
        "    # Parámetros para el generador combinado múltiple\n",
        "    m1 = 70\n",
        "    m2 = 50\n",
        "    b1 = [5, 3]  # Coeficientes arbitrarios para x\n",
        "    b2 = [4, 2]  # Coeficientes arbitrarios para y\n",
        "    x0 = [12, 27]  # Semillas arbitrarias para x\n",
        "    y0 = [8, 19]  # Semillas arbitrarias para y\n",
        "\n",
        "    cmcg = CombinedMultipleCongruentialGenerator(m1, m2, b1, b2, x0, y0, k)\n",
        "    random_numbers_cmcg = cmcg.generate(10)\n",
        "    print(\"Generador Congruencial Combinado Múltiple:\", random_numbers_cmcg)\n"
      ]
    },
    {
      "cell_type": "markdown",
      "source": [
        "# 📌 Generador Congruencial Múltiple (MCG)\n",
        "\n",
        "## **Descripción**\n",
        "El **Generador Congruencial Múltiple (MCG)** es un método para generar números pseudoaleatorios basado en una recurrencia lineal de la forma:\n",
        "\n",
        "$$\n",
        "X_i = (b_1 X_{i-1} + b_2 X_{i-2} + ... + b_k X_{i-k}) \\mod m\n",
        "$$\n",
        "\n",
        "Donde:\n",
        "- \\( X_i \\) es el número pseudoaleatorio generado en la iteración \\( i \\).\n",
        "- \\( b_1, b_2, ..., b_k \\) son coeficientes multiplicadores.\n",
        "- \\( m \\) es el módulo que define el rango de valores posibles.\n",
        "- \\( k \\) es el orden del generador (cantidad de valores previos utilizados).\n",
        "- Los valores generados se normalizan dividiéndolos entre \\( m \\) para obtener valores en el intervalo \\( (0,1) \\).\n",
        "\n",
        "## **Parámetros**\n",
        "- \\( m \\) → Módulo del generador (define el rango de valores).\n",
        "- \\( b \\) → Lista de coeficientes multiplicadores.\n",
        "- \\( x_0 \\) → Lista de semillas iniciales con al menos \\( k \\) elementos.\n",
        "- \\( k \\) → Número de términos utilizados en la ecuación de recurrencia.\n",
        "\n",
        "## **Ejemplo de uso**\n",
        "Este generador es útil en simulaciones numéricas, métodos de Monte Carlo y análisis estadístico.\n"
      ],
      "metadata": {
        "id": "Cfdo-4KOZJWD"
      }
    },
    {
      "cell_type": "code",
      "source": [
        "import numpy as np\n",
        "\n",
        "class MultipleCongruentialGenerator:\n",
        "    def __init__(self, m, b, x0, k):\n",
        "        \"\"\"\n",
        "        Inicializa el generador congruencial múltiple.\n",
        "        :param m: Módulo del generador.\n",
        "        :param b: Lista de coeficientes multiplicadores.\n",
        "        :param x0: Semillas iniciales (lista con al menos k elementos).\n",
        "        :param k: Orden del generador.\n",
        "        \"\"\"\n",
        "        self.m = m\n",
        "        self.b = b\n",
        "        self.x = x0\n",
        "        self.k = k\n",
        "\n",
        "    def generate(self, n):\n",
        "        \"\"\"\n",
        "        Genera una secuencia de n números pseudoaleatorios en (0,1).\n",
        "        :param n: Número de valores a generar.\n",
        "        :return: Lista de números aleatorios.\n",
        "        \"\"\"\n",
        "        numbers = []\n",
        "        for i in range(n):\n",
        "            next_x = sum(self.b[j] * self.x[-(j+1)] for j in range(self.k)) % self.m\n",
        "            self.x.append(next_x)\n",
        "            numbers.append(next_x / self.m)  # Normalización en (0,1)\n",
        "        return numbers\n",
        "\n",
        "\n",
        "# Prueba del código\n",
        "m = 70\n",
        "b = [5, 3]  # Coeficientes arbitrarios\n",
        "x0 = [12, 27]  # Semillas arbitrarias\n",
        "k = 2\n",
        "\n",
        "mcg = MultipleCongruentialGenerator(m, b, x0, k)\n",
        "random_numbers_mcg = mcg.generate(10)\n",
        "print(\"Generador Congruencial Múltiple:\", random_numbers_mcg)\n"
      ],
      "metadata": {
        "colab": {
          "base_uri": "https://localhost:8080/"
        },
        "id": "kj6tmDUAX7Ew",
        "outputId": "a416dde6-d569-4e25-dcf0-fedb111a7ba1"
      },
      "execution_count": 2,
      "outputs": [
        {
          "output_type": "stream",
          "name": "stdout",
          "text": [
            "Generador Congruencial Múltiple: [0.44285714285714284, 0.37142857142857144, 0.18571428571428572, 0.04285714285714286, 0.7714285714285715, 0.9857142857142858, 0.24285714285714285, 0.17142857142857143, 0.5857142857142857, 0.44285714285714284]\n"
          ]
        }
      ]
    },
    {
      "cell_type": "markdown",
      "source": [
        "# 📌 Generador Congruencial Combinado Múltiple (CMCG)\n",
        "\n",
        "## **Descripción**\n",
        "El **Generador Congruencial Combinado Múltiple (CMCG)** es una variación que combina dos generadores congruenciales múltiples para mejorar la calidad de los números pseudoaleatorios. Se define como:\n",
        "\n",
        "$$\n",
        "X_i = (b_1 X_{i-1} + b_2 X_{i-2} + ... + b_k X_{i-k}) \\mod m_1\n",
        "$$\n",
        "\n",
        "$$\n",
        "Y_i = (b_1 Y_{i-1} + b_2 Y_{i-2} + ... + b_k Y_{i-k}) \\mod m_2\n",
        "$$\n",
        "\n",
        "$$\n",
        "Z_i = (X_i - Y_i) \\mod m_1\n",
        "$$\n",
        "\n",
        "Donde:\n",
        "- \\( X_i \\) y \\( Y_i \\) son generadores congruenciales independientes con módulos \\( m_1 \\) y \\( m_2 \\).\n",
        "- \\( Z_i \\) es la combinación de ambas secuencias para mejorar la aleatoriedad.\n",
        "- Los valores generados se normalizan dividiéndolos entre \\( m_1 \\) para obtener valores en el intervalo \\( (0,1) \\).\n",
        "\n",
        "## **Parámetros**\n",
        "- \\( m_1 \\) → Primer módulo del generador.\n",
        "- \\( m_2 \\) → Segundo módulo del generador.\n",
        "- \\( b_1 \\) → Lista de coeficientes multiplicadores del primer generador.\n",
        "- \\( b_2 \\) → Lista de coeficientes multiplicadores del segundo generador.\n",
        "- \\( x_0 \\) → Lista de semillas iniciales para el primer generador.\n",
        "- \\( y_0 \\) → Lista de semillas iniciales para el segundo generador.\n",
        "- \\( k \\) → Número de términos utilizados en la ecuación de recurrencia.\n",
        "\n",
        "## **Ventajas**\n",
        "- Mayor periodo y mejor distribución de los números generados.\n",
        "- Reducción de correlaciones entre valores generados.\n",
        "- Aumento en la calidad de los números pseudoaleatorios.\n",
        "\n",
        "## **Ejemplo de uso**\n",
        "Este generador es recomendado cuando se requieren secuencias de alta calidad para aplicaciones en criptografía, simulaciones avanzadas y modelos de Monte Carlo.\n"
      ],
      "metadata": {
        "id": "e-ZCupbUZUdS"
      }
    },
    {
      "cell_type": "code",
      "source": [
        "import numpy as np\n",
        "\n",
        "class CombinedMultipleCongruentialGenerator:\n",
        "    def __init__(self, m1, m2, b1, b2, x0, y0, k):\n",
        "        \"\"\"\n",
        "        Inicializa el generador combinado de congruencias múltiples.\n",
        "        :param m1: Primer módulo.\n",
        "        :param m2: Segundo módulo.\n",
        "        :param b1: Lista de coeficientes multiplicadores del primer generador.\n",
        "        :param b2: Lista de coeficientes multiplicadores del segundo generador.\n",
        "        :param x0: Semillas iniciales del primer generador.\n",
        "        :param y0: Semillas iniciales del segundo generador.\n",
        "        :param k: Orden del generador.\n",
        "        \"\"\"\n",
        "        self.m1 = m1\n",
        "        self.m2 = m2\n",
        "        self.b1 = b1\n",
        "        self.b2 = b2\n",
        "        self.x = x0\n",
        "        self.y = y0\n",
        "        self.k = k\n",
        "\n",
        "    def generate(self, n):\n",
        "        \"\"\"\n",
        "        Genera una secuencia de n números pseudoaleatorios en (0,1).\n",
        "        :param n: Número de valores a generar.\n",
        "        :return: Lista de números aleatorios.\n",
        "        \"\"\"\n",
        "        numbers = []\n",
        "        for i in range(n):\n",
        "            next_x = sum(self.b1[j] * self.x[-(j+1)] for j in range(self.k)) % self.m1\n",
        "            next_y = sum(self.b2[j] * self.y[-(j+1)] for j in range(self.k)) % self.m2\n",
        "            next_z = (next_x - next_y) % self.m1  # Combinación\n",
        "            self.x.append(next_x)\n",
        "            self.y.append(next_y)\n",
        "            numbers.append(next_z / self.m1)  # Normalización en (0,1)\n",
        "        return numbers\n",
        "\n",
        "\n",
        "# Prueba del código\n",
        "m1 = 70\n",
        "m2 = 50\n",
        "b1 = [5, 3]  # Coeficientes arbitrarios para x\n",
        "b2 = [4, 2]  # Coeficientes arbitrarios para y\n",
        "x0 = [12, 27]  # Semillas arbitrarias para x\n",
        "y0 = [8, 19]  # Semillas arbitrarias para y\n",
        "k = 2\n",
        "\n",
        "cmcg = CombinedMultipleCongruentialGenerator(m1, m2, b1, b2, x0, y0, k)\n",
        "random_numbers_cmcg = cmcg.generate(10)\n",
        "print(\"Generador Congruencial Combinado Múltiple:\", random_numbers_cmcg)\n"
      ],
      "metadata": {
        "colab": {
          "base_uri": "https://localhost:8080/"
        },
        "id": "za9QuonDYLFc",
        "outputId": "45c10162-4d7c-472c-c38f-d8a1994b6e05"
      },
      "execution_count": 3,
      "outputs": [
        {
          "output_type": "stream",
          "name": "stdout",
          "text": [
            "Generador Congruencial Combinado Múltiple: [0.8428571428571429, 0.2857142857142857, 0.07142857142857142, 0.4142857142857143, 0.17142857142857143, 0.9, 0.12857142857142856, 0.5428571428571428, 0.9857142857142858, 0.35714285714285715]\n"
          ]
        }
      ]
    }
  ]
}