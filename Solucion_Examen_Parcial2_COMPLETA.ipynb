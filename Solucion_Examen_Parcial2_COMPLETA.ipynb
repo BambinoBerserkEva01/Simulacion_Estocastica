{
 "cells": [
  {
   "cell_type": "markdown",
   "metadata": {},
   "source": [
    "# 📘 Examen Parcial 2 - Solución Estructurada\n",
    "**Alumno:** Héctor Madera  \n",
    "**Instrucciones:** Sube los archivos `Muestra 1.csv` y `Muestra 2.csv`. Ejecuta cada bloque en orden. Completa los espacios de reporte antes de descargar tu notebook como PDF. ¡Suerte!"
   ]
  },
  {
   "cell_type": "code",
   "execution_count": null,
   "metadata": {},
   "outputs": [],
   "source": [
    "# 🔧 IMPORTACIONES NECESARIAS\n",
    "import pandas as pd\n",
    "import numpy as np\n",
    "from sklearn.preprocessing import StandardScaler\n",
    "from seleccion_variables import forward_selection, backward_elimination\n",
    "from modelo_regresion_toolbox import analizar_modelo"
   ]
  },
  {
   "cell_type": "markdown",
   "metadata": {},
   "source": [
    "## 🧪 PARTE 1: Eliminación hacia atrás\n",
    "**Dataset:** `Muestra 1.csv`  \n",
    "**Objetivo:** Aplicar método de eliminación hacia atrás para seleccionar variables significativas"
   ]
  },
  {
   "cell_type": "code",
   "execution_count": null,
   "metadata": {},
   "outputs": [],
   "source": [
    "# 📥 CARGAR DATOS\n",
    "df1 = pd.read_csv(\"Muestra 1.csv\")\n",
    "X1 = df1.iloc[:, :-1].values\n",
    "Y1 = df1.iloc[:, -1].values\n",
    "\n",
    "# 🚀 APLICAR BACKWARD ELIMINATION\n",
    "seleccionadas = backward_elimination(X1, Y1, verbose=True)\n",
    "analizar_modelo(X1[:, seleccionadas], Y1)"
   ]
  },
  {
   "cell_type": "markdown",
   "metadata": {},
   "source": [
    "### 📝 REPORTE PARTE 1\n",
    "*¿Qué variables fueron eliminadas? ¿Por qué? ¿Qué tan bueno es el modelo final?*\n",
    "\n",
    "**Escribe aquí tu interpretación**:"
   ]
  },
  {
   "cell_type": "markdown",
   "metadata": {},
   "source": [
    "---\n",
    "## 🧠 PARTE 2: Selección progresiva\n",
    "**Dataset:** `Muestra 2.csv`  \n",
    "**Objetivo:** Aplicar método de selección progresiva (hacia adelante)"
   ]
  },
  {
   "cell_type": "code",
   "execution_count": null,
   "metadata": {},
   "outputs": [],
   "source": [
    "# 📥 CARGAR DATOS\n",
    "df2 = pd.read_csv(\"Muestra 2.csv\")\n",
    "X2 = df2.iloc[:, :-1].values\n",
    "Y2 = df2.iloc[:, -1].values\n",
    "\n",
    "# 🚀 APLICAR FORWARD SELECTION\n",
    "seleccionadas = forward_selection(X2, Y2, verbose=True)\n",
    "analizar_modelo(X2[:, seleccionadas], Y2)"
   ]
  },
  {
   "cell_type": "markdown",
   "metadata": {},
   "source": [
    "### 📝 REPORTE PARTE 2\n",
    "*¿Qué variables se seleccionaron primero? ¿Por qué? ¿Mejoró el R²?*\n",
    "\n",
    "**Escribe aquí tu interpretación**:"
   ]
  },
  {
   "cell_type": "markdown",
   "metadata": {},
   "source": [
    "---\n",
    "## 📊 PARTE 3: Comparación con estandarización\n",
    "**Dataset:** `Muestra 1.csv`  \n",
    "**Objetivo:** Comparar los coeficientes originales con los estandarizados"
   ]
  },
  {
   "cell_type": "code",
   "execution_count": null,
   "metadata": {},
   "outputs": [],
   "source": [
    "# ⚙️ ESTANDARIZAR Y COMPARAR COEFICIENTES\n",
    "scaler = StandardScaler()\n",
    "Z1 = scaler.fit_transform(X1)\n",
    "\n",
    "modelo_original = analizar_modelo(X1, Y1)\n",
    "modelo_std = analizar_modelo(Z1, Y1)\n",
    "\n",
    "# Comparación de coeficientes\n",
    "betas = modelo_original['modelo'].params[1:]\n",
    "intercepto = modelo_original['modelo'].params[0]\n",
    "mu = X1.mean(axis=0)\n",
    "sigma = X1.std(axis=0, ddof=1)\n",
    "\n",
    "beta_star_teorico = sigma * betas\n",
    "intercepto_estrella = intercepto + np.sum(betas * mu)\n",
    "\n",
    "print(\"Coeficientes estandarizados esperados:\\n\", beta_star_teorico)\n",
    "print(\"Intercepto estandarizado teórico:\", intercepto_estrella)\n",
    "print(\"Intercepto del modelo estandarizado:\", modelo_std['modelo'].params[0])"
   ]
  },
  {
   "cell_type": "markdown",
   "metadata": {},
   "source": [
    "### 📝 REPORTE PARTE 3\n",
    "*¿Se cumple la relación entre los coeficientes estandarizados y originales? ¿Por qué es útil estandarizar?*\n",
    "\n",
    "**Escribe aquí tu interpretación**:"
   ]
  },
  {
   "cell_type": "markdown",
   "id": "eaa644d8",
   "metadata": {},
   "source": [
    "---  \n",
    "## 🧪 PARTE 4: Eliminación hacia atrás sobre regresores estandarizados  \n",
    "**Dataset:** `Muestra 1.csv`  \n",
    "**Objetivo:** Aplicar el mismo método de eliminación hacia atrás pero usando regresores estandarizados (`Zi`)"
   ]
  },
  {
   "cell_type": "code",
   "execution_count": null,
   "id": "dcce721b",
   "metadata": {},
   "outputs": [],
   "source": [
    "# 🔁 ESTANDARIZACIÓN DE REGRESORES\n",
    "scaler = StandardScaler()\n",
    "Z1 = scaler.fit_transform(X1)\n",
    "\n",
    "# 🚀 APLICAR BACKWARD ELIMINATION SOBRE Zi\n",
    "seleccionados_Z = backward_elimination(Z1, Y1, verbose=True)\n",
    "analizar_modelo(Z1[:, seleccionados_Z], Y1)"
   ]
  },
  {
   "cell_type": "markdown",
   "id": "7b349b58",
   "metadata": {},
   "source": [
    "### 📝 REPORTE PARTE 4  \n",
    "*¿Cambió la selección de variables al estandarizar? ¿Mejoró el modelo? ¿Por qué sí o por qué no?*  \n",
    "  \n",
    "**Escribe aquí tu interpretación:**"
   ]
  }
 ],
 "metadata": {
  "kernelspec": {
   "display_name": "Python 3",
   "language": "python",
   "name": "python3"
  },
  "language_info": {
   "name": "python",
   "version": "3.8"
  }
 },
 "nbformat": 4,
 "nbformat_minor": 2
}
